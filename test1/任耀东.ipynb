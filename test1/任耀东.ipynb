{
 "cells": [
  {
   "cell_type": "code",
   "id": "initial_id",
   "metadata": {
    "collapsed": true,
    "ExecuteTime": {
     "end_time": "2025-01-07T13:53:49.972542Z",
     "start_time": "2025-01-07T13:53:49.968261Z"
    }
   },
   "source": [
    "import numpy as np\n",
    "data = np.array([[1, 2, np.nan],\n",
    "                 [4, np.nan, 6],\n",
    "                 [7, 8, 9]])\n",
    "col_means = np.nanmean(data, axis=0)\n",
    "nan_indices = np.isnan(data)\n",
    "data[nan_indices] = np.take(col_means, np.where(nan_indices)[1])\n",
    "print(data)"
   ],
   "outputs": [
    {
     "name": "stdout",
     "output_type": "stream",
     "text": [
      "[[1.  2.  7.5]\n",
      " [4.  5.  6. ]\n",
      " [7.  8.  9. ]]\n"
     ]
    }
   ],
   "execution_count": 10
  },
  {
   "metadata": {
    "ExecuteTime": {
     "end_time": "2025-01-07T13:44:37.266933Z",
     "start_time": "2025-01-07T13:44:37.263285Z"
    }
   },
   "cell_type": "code",
   "source": "print(data.T)",
   "id": "b77e581608d97ec1",
   "outputs": [
    {
     "name": "stdout",
     "output_type": "stream",
     "text": [
      "[[1.  4.  7. ]\n",
      " [2.  5.  8. ]\n",
      " [7.5 6.  9. ]]\n"
     ]
    }
   ],
   "execution_count": 4
  },
  {
   "metadata": {
    "ExecuteTime": {
     "end_time": "2025-01-07T13:53:51.975Z",
     "start_time": "2025-01-07T13:53:51.970687Z"
    }
   },
   "cell_type": "code",
   "source": [
    "rows_to_roll = [0, 2]\n",
    "shift = 1\n",
    "for row in rows_to_roll:\n",
    "    data[row] = np.roll(data[row], shift=1)\n",
    "print(data)\n",
    "cols_to_roll = [0, 1]\n",
    "for col in cols_to_roll:\n",
    "    data[:,col] = np.roll(data[:,col], shift=1)\n",
    "print(data)"
   ],
   "id": "7abd88006270b223",
   "outputs": [
    {
     "name": "stdout",
     "output_type": "stream",
     "text": [
      "[[7.5 1.  2. ]\n",
      " [4.  5.  6. ]\n",
      " [9.  7.  8. ]]\n",
      "[[9.  7.  2. ]\n",
      " [7.5 1.  6. ]\n",
      " [4.  5.  8. ]]\n"
     ]
    }
   ],
   "execution_count": 11
  },
  {
   "metadata": {
    "ExecuteTime": {
     "end_time": "2025-01-07T14:07:11.966642Z",
     "start_time": "2025-01-07T14:07:11.962764Z"
    }
   },
   "cell_type": "code",
   "source": [
    "import pandas as pd\n",
    "test1=pd.Series([1,2,3,4,5],index=['a','b','c','d','e'])\n",
    "print(test1)"
   ],
   "id": "e4b2d3f515b11b4d",
   "outputs": [
    {
     "name": "stdout",
     "output_type": "stream",
     "text": [
      "a    1\n",
      "b    2\n",
      "c    3\n",
      "d    4\n",
      "e    5\n",
      "dtype: int64\n"
     ]
    }
   ],
   "execution_count": 13
  },
  {
   "metadata": {
    "ExecuteTime": {
     "end_time": "2025-01-07T14:09:51.649722Z",
     "start_time": "2025-01-07T14:09:51.640418Z"
    }
   },
   "cell_type": "code",
   "source": [
    "test1=[[1,2,3],[4,5,6],[7,8,9]]\n",
    "df1=pd.DataFrame(test1,index=['d','e','f'],columns=['a','b','c'])\n",
    "print(df1)"
   ],
   "id": "977141004bacbe9b",
   "outputs": [
    {
     "name": "stdout",
     "output_type": "stream",
     "text": [
      "   a  b  c\n",
      "d  1  2  3\n",
      "e  4  5  6\n",
      "f  7  8  9\n"
     ]
    }
   ],
   "execution_count": 14
  },
  {
   "metadata": {},
   "cell_type": "code",
   "outputs": [],
   "execution_count": null,
   "source": [
    "data = np.array([1, 2, np.nan, 4, np.nan])\n",
    "nan_mask = np.isnan(data)\n",
    "print(nan_mask)\n",
    "mean_value = np.nanmean(data)\n",
    "print(mean_value)\n",
    "filled_data = np.where(nan_mask, mean_value, data)\n",
    "print(filled_data)"
   ],
   "id": "ecfe468637853f2d"
  }
 ],
 "metadata": {
  "kernelspec": {
   "display_name": "Python 3",
   "language": "python",
   "name": "python3"
  },
  "language_info": {
   "codemirror_mode": {
    "name": "ipython",
    "version": 2
   },
   "file_extension": ".py",
   "mimetype": "text/x-python",
   "name": "python",
   "nbconvert_exporter": "python",
   "pygments_lexer": "ipython2",
   "version": "2.7.6"
  }
 },
 "nbformat": 4,
 "nbformat_minor": 5
}
