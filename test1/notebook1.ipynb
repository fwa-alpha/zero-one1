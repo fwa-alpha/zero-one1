{
 "cells": [
  {
   "cell_type": "code",
   "id": "initial_id",
   "metadata": {
    "collapsed": true,
    "ExecuteTime": {
     "end_time": "2025-01-02T06:38:21.678686Z",
     "start_time": "2025-01-02T06:38:21.673631Z"
    }
   },
   "source": [
    "import random as r\n",
    "a=[r.randint(0,99) for i in range(10) ]\n",
    "print(a)"
   ],
   "outputs": [
    {
     "name": "stdout",
     "output_type": "stream",
     "text": [
      "[6, 35, 1, 53, 20, 33, 95, 39, 84, 34]\n"
     ]
    }
   ],
   "execution_count": 5
  },
  {
   "metadata": {
    "ExecuteTime": {
     "end_time": "2025-01-02T06:39:43.063213Z",
     "start_time": "2025-01-02T06:39:43.056837Z"
    }
   },
   "cell_type": "code",
   "source": [
    "def seele(ls,size):\n",
    "    if size == 0:\n",
    "        return\n",
    "    for i in range(len(ls)):\n",
    "        if i+size < len(ls):\n",
    "            if ls[i] > ls[i+size]:\n",
    "                ls[i],ls[i+size] = ls[i+size],ls[i]\n",
    "        else:\n",
    "            break\n",
    "    seele(ls,size-1)\n",
    "seele(a,2)\n",
    "print(a)"
   ],
   "id": "6b6127bc81ba6f23",
   "outputs": [
    {
     "name": "stdout",
     "output_type": "stream",
     "text": [
      "[1, 6, 20, 33, 34, 35, 39, 53, 84, 95]\n"
     ]
    }
   ],
   "execution_count": 16
  }
 ],
 "metadata": {
  "kernelspec": {
   "display_name": "Python 3",
   "language": "python",
   "name": "python3"
  },
  "language_info": {
   "codemirror_mode": {
    "name": "ipython",
    "version": 2
   },
   "file_extension": ".py",
   "mimetype": "text/x-python",
   "name": "python",
   "nbconvert_exporter": "python",
   "pygments_lexer": "ipython2",
   "version": "2.7.6"
  }
 },
 "nbformat": 4,
 "nbformat_minor": 5
}
