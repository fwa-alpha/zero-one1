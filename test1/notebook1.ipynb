{
 "cells": [
  {
   "cell_type": "code",
   "id": "initial_id",
   "metadata": {
    "collapsed": true,
    "ExecuteTime": {
     "end_time": "2025-01-02T06:38:21.678686Z",
     "start_time": "2025-01-02T06:38:21.673631Z"
    }
   },
   "source": [
    "import random as r\n",
    "a=[r.randint(0,99) for i in range(10) ]\n",
    "print(a)"
   ],
   "outputs": [
    {
     "name": "stdout",
     "output_type": "stream",
     "text": [
      "[6, 35, 1, 53, 20, 33, 95, 39, 84, 34]\n"
     ]
    }
   ],
   "execution_count": 5
  },
  {
   "metadata": {
    "ExecuteTime": {
     "end_time": "2025-01-02T06:42:10.731491Z",
     "start_time": "2025-01-02T06:42:10.725604Z"
    }
   },
   "cell_type": "code",
   "source": [
    "def seele(ls,size):\n",
    "    if size == 0:\n",
    "        return\n",
    "    for i in range(len(ls)):\n",
    "        if i+size < len(ls):\n",
    "            if ls[i] > ls[i+size]:\n",
    "                ls[i],ls[i+size] = ls[i+size],ls[i]\n",
    "        else:\n",
    "            break\n",
    "    seele(ls,size-1)\n",
    "seele(a,2)\n",
    "print(a)"
   ],
   "id": "6b6127bc81ba6f23",
   "outputs": [
    {
     "name": "stdout",
     "output_type": "stream",
     "text": [
      "[1, 6, 20, 33, 34, 35, 39, 53, 84, 95]\n"
     ]
    }
   ],
   "execution_count": 17
  },
  {
   "metadata": {
    "ExecuteTime": {
     "end_time": "2025-01-02T06:49:32.864725Z",
     "start_time": "2025-01-02T06:49:32.859278Z"
    }
   },
   "cell_type": "code",
   "source": [
    "def quick_sort(arr):\n",
    "    if len(arr) <= 1:\n",
    "        return arr\n",
    "    pivot = arr[0]\n",
    "    left = [x for x in arr[1:] if x < pivot]\n",
    "    right = [x for x in arr[1:] if x >= pivot]\n",
    "    return quick_sort(left) + [pivot] + quick_sort(right)\n",
    "print(quick_sort(a))"
   ],
   "id": "274c1e0c2b3f9a70",
   "outputs": [
    {
     "name": "stdout",
     "output_type": "stream",
     "text": [
      "[1, 6, 20, 33, 34, 35, 39, 53, 84, 95]\n"
     ]
    }
   ],
   "execution_count": 18
  },
  {
   "metadata": {},
   "cell_type": "code",
   "outputs": [],
   "execution_count": null,
   "source": "",
   "id": "962f716d8f66c44a"
  }
 ],
 "metadata": {
  "kernelspec": {
   "display_name": "Python 3",
   "language": "python",
   "name": "python3"
  },
  "language_info": {
   "codemirror_mode": {
    "name": "ipython",
    "version": 2
   },
   "file_extension": ".py",
   "mimetype": "text/x-python",
   "name": "python",
   "nbconvert_exporter": "python",
   "pygments_lexer": "ipython2",
   "version": "2.7.6"
  }
 },
 "nbformat": 4,
 "nbformat_minor": 5
}
